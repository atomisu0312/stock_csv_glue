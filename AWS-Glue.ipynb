{
 "cells": [
  {
   "cell_type": "markdown",
   "id": "0b13380e-527c-4cdb-a193-8c9981321fbf",
   "metadata": {},
   "source": [
    "The steps in this hands-on tutorial about AWS Glue are the following:\n",
    "\n",
    "Step 1. Enter credentials\n",
    "\n",
    "Step 2. Create an S3 bucket and load the dataset into the bucket\n",
    "\n",
    "Step 3. Create a database for the crawled data\n",
    "\n",
    "Step 4. Create a service role, that will used to access S3 and use Glue features\n",
    "\n",
    "Step 5. Create the crawler and run the crawl job\n",
    "\n",
    "Step 6. Write a Pyspark file with the operations to be performed on the dataset\n",
    "\n",
    "Step 7. Generate a file with ETL job and load it into the S3 bucket\n",
    "\n",
    "Step 8. Configure the ETL Glue Job and run it manually"
   ]
  },
  {
   "cell_type": "markdown",
   "id": "a8f675fd-a4fd-462f-903f-5157bf563b3f",
   "metadata": {},
   "source": [
    "#### Enter credentials"
   ]
  },
  {
   "cell_type": "code",
   "execution_count": 1,
   "id": "ab062167-27ba-4473-ac6d-841e71983b62",
   "metadata": {},
   "outputs": [],
   "source": [
    "import getpass"
   ]
  },
  {
   "cell_type": "code",
   "execution_count": 2,
   "id": "49f76e1b-4045-461c-81c3-8e16f331c096",
   "metadata": {},
   "outputs": [],
   "source": [
    "accessKeyID = getpass.getpass()"
   ]
  },
  {
   "cell_type": "code",
   "execution_count": 3,
   "id": "cd3bbee9-ef47-4ac9-a119-7696a558f572",
   "metadata": {},
   "outputs": [],
   "source": [
    "secretAccessKeyID = getpass.getpass()"
   ]
  },
  {
   "cell_type": "markdown",
   "id": "5b0d23c3-1032-43a9-bdbd-e5455daba85a",
   "metadata": {
    "tags": []
   },
   "source": [
    "#### Create an S3 bucket"
   ]
  },
  {
   "cell_type": "code",
   "execution_count": 38,
   "id": "0842eb7f-b45b-42d1-9504-fd07853436fe",
   "metadata": {},
   "outputs": [
    {
     "ename": "BucketAlreadyOwnedByYou",
     "evalue": "An error occurred (BucketAlreadyOwnedByYou) when calling the CreateBucket operation: Your previous request to create the named bucket succeeded and you already own it.",
     "output_type": "error",
     "traceback": [
      "\u001b[0;31m---------------------------------------------------------------------------\u001b[0m",
      "\u001b[0;31mBucketAlreadyOwnedByYou\u001b[0m                   Traceback (most recent call last)",
      "Cell \u001b[0;32mIn[38], line 11\u001b[0m\n\u001b[1;32m      6\u001b[0m session \u001b[38;5;241m=\u001b[39m boto3\u001b[38;5;241m.\u001b[39mSession(aws_access_key_id\u001b[38;5;241m=\u001b[39maccessKeyID,\n\u001b[1;32m      7\u001b[0m                         aws_secret_access_key\u001b[38;5;241m=\u001b[39msecretAccessKeyID)\n\u001b[1;32m      9\u001b[0m dev_s3_client \u001b[38;5;241m=\u001b[39m session\u001b[38;5;241m.\u001b[39mclient(\u001b[38;5;124m'\u001b[39m\u001b[38;5;124ms3\u001b[39m\u001b[38;5;124m'\u001b[39m)\n\u001b[0;32m---> 11\u001b[0m response \u001b[38;5;241m=\u001b[39m \u001b[43mdev_s3_client\u001b[49m\u001b[38;5;241;43m.\u001b[39;49m\u001b[43mcreate_bucket\u001b[49m\u001b[43m(\u001b[49m\n\u001b[1;32m     12\u001b[0m \u001b[43m      \u001b[49m\u001b[43mBucket\u001b[49m\u001b[38;5;241;43m=\u001b[39;49m\u001b[43mbucket\u001b[49m\u001b[43m,\u001b[49m\n\u001b[1;32m     13\u001b[0m \u001b[43m      \u001b[49m\u001b[43mCreateBucketConfiguration\u001b[49m\u001b[38;5;241;43m=\u001b[39;49m\u001b[43m{\u001b[49m\n\u001b[1;32m     14\u001b[0m \u001b[43m        \u001b[49m\u001b[38;5;124;43m'\u001b[39;49m\u001b[38;5;124;43mLocationConstraint\u001b[39;49m\u001b[38;5;124;43m'\u001b[39;49m\u001b[43m:\u001b[49m\u001b[43m \u001b[49m\u001b[38;5;124;43m'\u001b[39;49m\u001b[38;5;124;43map-northeast-1\u001b[39;49m\u001b[38;5;124;43m'\u001b[39;49m\u001b[43m  \u001b[49m\u001b[38;5;66;43;03m# 東京リージョンの場合\u001b[39;49;00m\n\u001b[1;32m     15\u001b[0m \u001b[43m    \u001b[49m\u001b[43m}\u001b[49m\u001b[43m)\u001b[49m\n\u001b[1;32m     16\u001b[0m \u001b[38;5;28mprint\u001b[39m(response)\n",
      "File \u001b[0;32m~/myprj/1week4/1week4clone/AWS/glueetl/.venv/lib/python3.10/site-packages/botocore/client.py:595\u001b[0m, in \u001b[0;36mClientCreator._create_api_method.<locals>._api_call\u001b[0;34m(self, *args, **kwargs)\u001b[0m\n\u001b[1;32m    591\u001b[0m     \u001b[38;5;28;01mraise\u001b[39;00m \u001b[38;5;167;01mTypeError\u001b[39;00m(\n\u001b[1;32m    592\u001b[0m         \u001b[38;5;124mf\u001b[39m\u001b[38;5;124m\"\u001b[39m\u001b[38;5;132;01m{\u001b[39;00mpy_operation_name\u001b[38;5;132;01m}\u001b[39;00m\u001b[38;5;124m() only accepts keyword arguments.\u001b[39m\u001b[38;5;124m\"\u001b[39m\n\u001b[1;32m    593\u001b[0m     )\n\u001b[1;32m    594\u001b[0m \u001b[38;5;66;03m# The \"self\" in this scope is referring to the BaseClient.\u001b[39;00m\n\u001b[0;32m--> 595\u001b[0m \u001b[38;5;28;01mreturn\u001b[39;00m \u001b[38;5;28;43mself\u001b[39;49m\u001b[38;5;241;43m.\u001b[39;49m\u001b[43m_make_api_call\u001b[49m\u001b[43m(\u001b[49m\u001b[43moperation_name\u001b[49m\u001b[43m,\u001b[49m\u001b[43m \u001b[49m\u001b[43mkwargs\u001b[49m\u001b[43m)\u001b[49m\n",
      "File \u001b[0;32m~/myprj/1week4/1week4clone/AWS/glueetl/.venv/lib/python3.10/site-packages/botocore/context.py:123\u001b[0m, in \u001b[0;36mwith_current_context.<locals>.decorator.<locals>.wrapper\u001b[0;34m(*args, **kwargs)\u001b[0m\n\u001b[1;32m    121\u001b[0m \u001b[38;5;28;01mif\u001b[39;00m hook:\n\u001b[1;32m    122\u001b[0m     hook()\n\u001b[0;32m--> 123\u001b[0m \u001b[38;5;28;01mreturn\u001b[39;00m \u001b[43mfunc\u001b[49m\u001b[43m(\u001b[49m\u001b[38;5;241;43m*\u001b[39;49m\u001b[43margs\u001b[49m\u001b[43m,\u001b[49m\u001b[43m \u001b[49m\u001b[38;5;241;43m*\u001b[39;49m\u001b[38;5;241;43m*\u001b[39;49m\u001b[43mkwargs\u001b[49m\u001b[43m)\u001b[49m\n",
      "File \u001b[0;32m~/myprj/1week4/1week4clone/AWS/glueetl/.venv/lib/python3.10/site-packages/botocore/client.py:1058\u001b[0m, in \u001b[0;36mBaseClient._make_api_call\u001b[0;34m(self, operation_name, api_params)\u001b[0m\n\u001b[1;32m   1054\u001b[0m     error_code \u001b[38;5;241m=\u001b[39m error_info\u001b[38;5;241m.\u001b[39mget(\u001b[38;5;124m\"\u001b[39m\u001b[38;5;124mQueryErrorCode\u001b[39m\u001b[38;5;124m\"\u001b[39m) \u001b[38;5;129;01mor\u001b[39;00m error_info\u001b[38;5;241m.\u001b[39mget(\n\u001b[1;32m   1055\u001b[0m         \u001b[38;5;124m\"\u001b[39m\u001b[38;5;124mCode\u001b[39m\u001b[38;5;124m\"\u001b[39m\n\u001b[1;32m   1056\u001b[0m     )\n\u001b[1;32m   1057\u001b[0m     error_class \u001b[38;5;241m=\u001b[39m \u001b[38;5;28mself\u001b[39m\u001b[38;5;241m.\u001b[39mexceptions\u001b[38;5;241m.\u001b[39mfrom_code(error_code)\n\u001b[0;32m-> 1058\u001b[0m     \u001b[38;5;28;01mraise\u001b[39;00m error_class(parsed_response, operation_name)\n\u001b[1;32m   1059\u001b[0m \u001b[38;5;28;01melse\u001b[39;00m:\n\u001b[1;32m   1060\u001b[0m     \u001b[38;5;28;01mreturn\u001b[39;00m parsed_response\n",
      "\u001b[0;31mBucketAlreadyOwnedByYou\u001b[0m: An error occurred (BucketAlreadyOwnedByYou) when calling the CreateBucket operation: Your previous request to create the named bucket succeeded and you already own it."
     ]
    }
   ],
   "source": [
    "import boto3\n",
    "\n",
    "bucket='glue-test-az1-atomisu'\n",
    "bucket_source='glue-test-az1-atomisu/raw_files'\n",
    "\n",
    "session = boto3.Session(aws_access_key_id=accessKeyID,\n",
    "                        aws_secret_access_key=secretAccessKeyID)\n",
    "\n",
    "dev_s3_client = session.client('s3')\n",
    "\n",
    "response = dev_s3_client.create_bucket(\n",
    "      Bucket=bucket,\n",
    "      CreateBucketConfiguration={\n",
    "        'LocationConstraint': 'ap-northeast-1'  # 東京リージョンの場合\n",
    "    })\n",
    "print(response)"
   ]
  },
  {
   "cell_type": "markdown",
   "id": "48e1231b-72e9-4460-bcb3-a0a85c5a6970",
   "metadata": {},
   "source": [
    "#### Upload local file to S3"
   ]
  },
  {
   "cell_type": "code",
   "execution_count": 5,
   "id": "711bbb86-4832-4b70-8d52-acf23434c65d",
   "metadata": {
    "tags": []
   },
   "outputs": [],
   "source": [
    "fileToUpload = 'TSLA.csv'\n",
    "dev_s3_client.upload_file(f'{fileToUpload}', \n",
    "                          bucket,\n",
    "                          f'raw_files/{fileToUpload}')"
   ]
  },
  {
   "cell_type": "markdown",
   "id": "1e28b644-50b3-484b-897f-08aad3c0154f",
   "metadata": {},
   "source": [
    "Verify the file was uploaded."
   ]
  },
  {
   "cell_type": "code",
   "execution_count": 7,
   "id": "d8a98f10-9d0f-4cf8-8268-3a85d62f8d5a",
   "metadata": {
    "tags": []
   },
   "outputs": [],
   "source": [
    "response = dev_s3_client.list_objects(Bucket=f'{bucket}')"
   ]
  },
  {
   "cell_type": "code",
   "execution_count": 8,
   "id": "5d6dc69b-b3ae-4742-af10-00d9684b8412",
   "metadata": {},
   "outputs": [
    {
     "name": "stdout",
     "output_type": "stream",
     "text": [
      "5e818379-1ad4-4418-ad35-a18482e72a6f.csv\n",
      "5e818379-1ad4-4418-ad35-a18482e72a6f.csv.metadata\n",
      "processed/TSLA.csv/part-00000-db5c53eb-dab9-4547-876e-d39c683e472d-c000.csv\n",
      "processed_$folder$\n",
      "raw_files/TSLA.csv\n",
      "scripts/sparkETL.py\n"
     ]
    }
   ],
   "source": [
    "for key in response[\"Contents\"]:\n",
    "    print(key['Key'])"
   ]
  },
  {
   "cell_type": "markdown",
   "id": "55c6d6b0-9301-4e35-8818-d495ff129aae",
   "metadata": {},
   "source": [
    "#### Create a database where the crawler can store the results"
   ]
  },
  {
   "cell_type": "code",
   "execution_count": 9,
   "id": "34d5265d-31a5-45c5-970d-763e334501e3",
   "metadata": {},
   "outputs": [],
   "source": [
    "session = boto3.session.Session(aws_access_key_id=accessKeyID, aws_secret_access_key=secretAccessKeyID)\n",
    "glue_client = session.client('glue', region_name='ap-northeast-1')"
   ]
  },
  {
   "cell_type": "code",
   "execution_count": 10,
   "id": "a572194c-8134-4165-87c7-e16f4505e784",
   "metadata": {},
   "outputs": [
    {
     "ename": "AlreadyExistsException",
     "evalue": "An error occurred (AlreadyExistsException) when calling the CreateDatabase operation: Database already exists.",
     "output_type": "error",
     "traceback": [
      "\u001b[0;31m---------------------------------------------------------------------------\u001b[0m",
      "\u001b[0;31mAlreadyExistsException\u001b[0m                    Traceback (most recent call last)",
      "Cell \u001b[0;32mIn[10], line 2\u001b[0m\n\u001b[1;32m      1\u001b[0m dbName \u001b[38;5;241m=\u001b[39m \u001b[38;5;124m'\u001b[39m\u001b[38;5;124mmydbaz1\u001b[39m\u001b[38;5;124m'\u001b[39m\n\u001b[0;32m----> 2\u001b[0m \u001b[43mglue_client\u001b[49m\u001b[38;5;241;43m.\u001b[39;49m\u001b[43mcreate_database\u001b[49m\u001b[43m(\u001b[49m\u001b[43mDatabaseInput\u001b[49m\u001b[38;5;241;43m=\u001b[39;49m\u001b[43m{\u001b[49m\u001b[38;5;124;43m'\u001b[39;49m\u001b[38;5;124;43mName\u001b[39;49m\u001b[38;5;124;43m'\u001b[39;49m\u001b[43m:\u001b[49m\u001b[43m \u001b[49m\u001b[43mdbName\u001b[49m\u001b[43m}\u001b[49m\u001b[43m)\u001b[49m\n",
      "File \u001b[0;32m~/myprj/1week4/1week4clone/AWS/glueetl/.venv/lib/python3.10/site-packages/botocore/client.py:595\u001b[0m, in \u001b[0;36mClientCreator._create_api_method.<locals>._api_call\u001b[0;34m(self, *args, **kwargs)\u001b[0m\n\u001b[1;32m    591\u001b[0m     \u001b[38;5;28;01mraise\u001b[39;00m \u001b[38;5;167;01mTypeError\u001b[39;00m(\n\u001b[1;32m    592\u001b[0m         \u001b[38;5;124mf\u001b[39m\u001b[38;5;124m\"\u001b[39m\u001b[38;5;132;01m{\u001b[39;00mpy_operation_name\u001b[38;5;132;01m}\u001b[39;00m\u001b[38;5;124m() only accepts keyword arguments.\u001b[39m\u001b[38;5;124m\"\u001b[39m\n\u001b[1;32m    593\u001b[0m     )\n\u001b[1;32m    594\u001b[0m \u001b[38;5;66;03m# The \"self\" in this scope is referring to the BaseClient.\u001b[39;00m\n\u001b[0;32m--> 595\u001b[0m \u001b[38;5;28;01mreturn\u001b[39;00m \u001b[38;5;28;43mself\u001b[39;49m\u001b[38;5;241;43m.\u001b[39;49m\u001b[43m_make_api_call\u001b[49m\u001b[43m(\u001b[49m\u001b[43moperation_name\u001b[49m\u001b[43m,\u001b[49m\u001b[43m \u001b[49m\u001b[43mkwargs\u001b[49m\u001b[43m)\u001b[49m\n",
      "File \u001b[0;32m~/myprj/1week4/1week4clone/AWS/glueetl/.venv/lib/python3.10/site-packages/botocore/context.py:123\u001b[0m, in \u001b[0;36mwith_current_context.<locals>.decorator.<locals>.wrapper\u001b[0;34m(*args, **kwargs)\u001b[0m\n\u001b[1;32m    121\u001b[0m \u001b[38;5;28;01mif\u001b[39;00m hook:\n\u001b[1;32m    122\u001b[0m     hook()\n\u001b[0;32m--> 123\u001b[0m \u001b[38;5;28;01mreturn\u001b[39;00m \u001b[43mfunc\u001b[49m\u001b[43m(\u001b[49m\u001b[38;5;241;43m*\u001b[39;49m\u001b[43margs\u001b[49m\u001b[43m,\u001b[49m\u001b[43m \u001b[49m\u001b[38;5;241;43m*\u001b[39;49m\u001b[38;5;241;43m*\u001b[39;49m\u001b[43mkwargs\u001b[49m\u001b[43m)\u001b[49m\n",
      "File \u001b[0;32m~/myprj/1week4/1week4clone/AWS/glueetl/.venv/lib/python3.10/site-packages/botocore/client.py:1058\u001b[0m, in \u001b[0;36mBaseClient._make_api_call\u001b[0;34m(self, operation_name, api_params)\u001b[0m\n\u001b[1;32m   1054\u001b[0m     error_code \u001b[38;5;241m=\u001b[39m error_info\u001b[38;5;241m.\u001b[39mget(\u001b[38;5;124m\"\u001b[39m\u001b[38;5;124mQueryErrorCode\u001b[39m\u001b[38;5;124m\"\u001b[39m) \u001b[38;5;129;01mor\u001b[39;00m error_info\u001b[38;5;241m.\u001b[39mget(\n\u001b[1;32m   1055\u001b[0m         \u001b[38;5;124m\"\u001b[39m\u001b[38;5;124mCode\u001b[39m\u001b[38;5;124m\"\u001b[39m\n\u001b[1;32m   1056\u001b[0m     )\n\u001b[1;32m   1057\u001b[0m     error_class \u001b[38;5;241m=\u001b[39m \u001b[38;5;28mself\u001b[39m\u001b[38;5;241m.\u001b[39mexceptions\u001b[38;5;241m.\u001b[39mfrom_code(error_code)\n\u001b[0;32m-> 1058\u001b[0m     \u001b[38;5;28;01mraise\u001b[39;00m error_class(parsed_response, operation_name)\n\u001b[1;32m   1059\u001b[0m \u001b[38;5;28;01melse\u001b[39;00m:\n\u001b[1;32m   1060\u001b[0m     \u001b[38;5;28;01mreturn\u001b[39;00m parsed_response\n",
      "\u001b[0;31mAlreadyExistsException\u001b[0m: An error occurred (AlreadyExistsException) when calling the CreateDatabase operation: Database already exists."
     ]
    }
   ],
   "source": [
    "dbName = 'mydbaz1'\n",
    "glue_client.create_database(DatabaseInput={'Name': dbName})"
   ]
  },
  {
   "cell_type": "markdown",
   "id": "53b98113-dde4-4da6-8bdc-ce1dd5963a73",
   "metadata": {},
   "source": [
    "#### Create a service role"
   ]
  },
  {
   "cell_type": "code",
   "execution_count": 11,
   "id": "66f2ba21-a6a9-44c7-b829-e8c6f8203bec",
   "metadata": {},
   "outputs": [],
   "source": [
    "import json"
   ]
  },
  {
   "cell_type": "code",
   "execution_count": 13,
   "id": "05402cd5-edbe-4014-9bb1-e74fc57087db",
   "metadata": {},
   "outputs": [],
   "source": [
    "trust_policy={\n",
    "  \"Version\": \"2012-10-17\",\n",
    "  \"Statement\": [\n",
    "    {\n",
    "      \"Sid\": \"\",\n",
    "      \"Effect\": \"Allow\",\n",
    "      \"Principal\": {\n",
    "        \"Service\": \"glue.amazonaws.com\"\n",
    "      },\n",
    "      \"Action\": \"sts:AssumeRole\"\n",
    "    }\n",
    "  ]\n",
    "}"
   ]
  },
  {
   "cell_type": "code",
   "execution_count": 64,
   "id": "3476e34c-13cc-4cbb-8697-f49e5efd7699",
   "metadata": {},
   "outputs": [],
   "source": [
    "iam_client = session.client('iam')"
   ]
  },
  {
   "cell_type": "code",
   "execution_count": 15,
   "id": "f407abe0-6ce2-416c-9c7e-f662de639a03",
   "metadata": {
    "tags": []
   },
   "outputs": [
    {
     "name": "stdout",
     "output_type": "stream",
     "text": [
      "{'Role': {'Path': '/', 'RoleName': 'AWSGlueServiceRole-AZ1', 'RoleId': 'AROATQD5P33CKLNPP5FK6', 'Arn': 'arn:aws:iam::240781352644:role/AWSGlueServiceRole-AZ1', 'CreateDate': datetime.datetime(2025, 5, 15, 9, 49, 1, tzinfo=tzutc()), 'AssumeRolePolicyDocument': {'Version': '2012-10-17', 'Statement': [{'Sid': '', 'Effect': 'Allow', 'Principal': {'Service': 'glue.amazonaws.com'}, 'Action': 'sts:AssumeRole'}]}}, 'ResponseMetadata': {'RequestId': '268dcdb1-0da5-4237-8ca8-969c62ba771b', 'HTTPStatusCode': 200, 'HTTPHeaders': {'date': 'Thu, 15 May 2025 09:49:01 GMT', 'x-amzn-requestid': '268dcdb1-0da5-4237-8ca8-969c62ba771b', 'content-type': 'text/xml', 'content-length': '823'}, 'RetryAttempts': 0}}\n"
     ]
    }
   ],
   "source": [
    "iam_response = iam_client.create_role(RoleName = 'AWSGlueServiceRole-AZ1', \n",
    "                       AssumeRolePolicyDocument = json.dumps(trust_policy))\n",
    "\n",
    "print(iam_response)"
   ]
  },
  {
   "cell_type": "markdown",
   "id": "a6916ee8-c1f1-42cf-8397-e397bb4f9354",
   "metadata": {},
   "source": [
    "#### Attach the policy AWSGlueServiceRole to the new role"
   ]
  },
  {
   "cell_type": "code",
   "execution_count": 16,
   "id": "0d14c8c6-800c-4680-b52d-8ddf2b24c8f7",
   "metadata": {},
   "outputs": [
    {
     "data": {
      "text/plain": [
       "{'ResponseMetadata': {'RequestId': 'd3ca2c9a-f4c8-4969-8fdf-5d8457f4797a',\n",
       "  'HTTPStatusCode': 200,\n",
       "  'HTTPHeaders': {'date': 'Thu, 15 May 2025 09:49:05 GMT',\n",
       "   'x-amzn-requestid': 'd3ca2c9a-f4c8-4969-8fdf-5d8457f4797a',\n",
       "   'content-type': 'text/xml',\n",
       "   'content-length': '212'},\n",
       "  'RetryAttempts': 0}}"
      ]
     },
     "execution_count": 16,
     "metadata": {},
     "output_type": "execute_result"
    }
   ],
   "source": [
    "iam_client.attach_role_policy(RoleName=\"AWSGlueServiceRole-AZ1\",\n",
    "                              PolicyArn=\"arn:aws:iam::aws:policy/service-role/AWSGlueServiceRole\")"
   ]
  },
  {
   "cell_type": "code",
   "execution_count": 17,
   "id": "4116dcdd-74d4-4307-9698-a98303591dd6",
   "metadata": {},
   "outputs": [
    {
     "data": {
      "text/plain": [
       "{'ResponseMetadata': {'RequestId': '3f55a3e3-0a0e-4edc-bd56-67f729cd59a8',\n",
       "  'HTTPStatusCode': 200,\n",
       "  'HTTPHeaders': {'date': 'Thu, 15 May 2025 09:49:08 GMT',\n",
       "   'x-amzn-requestid': '3f55a3e3-0a0e-4edc-bd56-67f729cd59a8',\n",
       "   'content-type': 'text/xml',\n",
       "   'content-length': '212'},\n",
       "  'RetryAttempts': 0}}"
      ]
     },
     "execution_count": 17,
     "metadata": {},
     "output_type": "execute_result"
    }
   ],
   "source": [
    "iam_client.attach_role_policy(RoleName=\"AWSGlueServiceRole-AZ1\",\n",
    "                              PolicyArn=\"arn:aws:iam::aws:policy/AmazonS3FullAccess\")"
   ]
  },
  {
   "cell_type": "markdown",
   "id": "df863340-60b3-40b8-81a6-9bd6d1c25a1a",
   "metadata": {},
   "source": [
    "#### Create the crawler\n",
    "\n",
    "The crawler needs to use the role *AWSGlueServiceRole-AZ1* that was created before."
   ]
  },
  {
   "cell_type": "code",
   "execution_count": 39,
   "id": "79816426-cef9-41d2-bec4-a4bfc217c79f",
   "metadata": {
    "tags": []
   },
   "outputs": [
    {
     "name": "stdout",
     "output_type": "stream",
     "text": [
      "{'ResponseMetadata': {'RequestId': '1ca5cacc-dd73-47ec-9eb8-f15dc733136f', 'HTTPStatusCode': 200, 'HTTPHeaders': {'date': 'Tue, 20 May 2025 13:41:42 GMT', 'content-type': 'application/x-amz-json-1.1', 'content-length': '2', 'connection': 'keep-alive', 'x-amzn-requestid': '1ca5cacc-dd73-47ec-9eb8-f15dc733136f', 'cache-control': 'no-cache'}, 'RetryAttempts': 0}}\n"
     ]
    }
   ],
   "source": [
    "import json\n",
    "\n",
    "response = glue_client.create_crawler(Name='CrawlerAZ1_',\n",
    "                                      Role='AWSGlueServiceRole-AZ1',\n",
    "                                      DatabaseName = dbName,\n",
    "                                      Targets={ \n",
    "                                          'S3Targets': [\n",
    "                                              {\n",
    "                                                  'Path': f's3://{bucket_source}',\n",
    "                                              },\n",
    "                                          ],\n",
    "                                      },\n",
    "                                      SchemaChangePolicy={\n",
    "                                          'UpdateBehavior': 'UPDATE_IN_DATABASE',\n",
    "                                          'DeleteBehavior': 'DEPRECATE_IN_DATABASE'\n",
    "                                      },\n",
    "                                      RecrawlPolicy={\n",
    "                                          'RecrawlBehavior': 'CRAWL_EVERYTHING'\n",
    "                                      },\n",
    "                                      LineageConfiguration={\n",
    "                                          'CrawlerLineageSettings': 'DISABLE'\n",
    "                                      })\n",
    "\n",
    "print(response)"
   ]
  },
  {
   "cell_type": "markdown",
   "id": "2e65b2af-b6a2-431b-9f13-d1a8b3785de4",
   "metadata": {
    "tags": []
   },
   "source": [
    "#### List crawlers"
   ]
  },
  {
   "cell_type": "code",
   "execution_count": 42,
   "id": "507c4fa8-ab6d-406c-bdc2-3e7dec742a0e",
   "metadata": {},
   "outputs": [
    {
     "data": {
      "text/plain": [
       "{'CrawlerNames': ['Crawler-240781352644-ap-northeast-1',\n",
       "  'CrawlerAZ1',\n",
       "  'CrawlerAZ1_',\n",
       "  'mysamplec'],\n",
       " 'ResponseMetadata': {'RequestId': 'a5403326-0681-4c25-99a6-77b5ce8fa4bd',\n",
       "  'HTTPStatusCode': 200,\n",
       "  'HTTPHeaders': {'date': 'Tue, 20 May 2025 13:42:20 GMT',\n",
       "   'content-type': 'application/x-amz-json-1.1',\n",
       "   'content-length': '95',\n",
       "   'connection': 'keep-alive',\n",
       "   'x-amzn-requestid': 'a5403326-0681-4c25-99a6-77b5ce8fa4bd',\n",
       "   'cache-control': 'no-cache'},\n",
       "  'RetryAttempts': 0}}"
      ]
     },
     "execution_count": 42,
     "metadata": {},
     "output_type": "execute_result"
    }
   ],
   "source": [
    "glue_client.list_crawlers()"
   ]
  },
  {
   "cell_type": "markdown",
   "id": "ab639bde-e8fd-489f-acd7-486fd2484668",
   "metadata": {},
   "source": [
    "The crawler I just created is present in the list\n",
    "\n",
    "If the database doesn't exist it will be created.\n",
    "\n",
    "#### Run the crawler manually"
   ]
  },
  {
   "cell_type": "code",
   "execution_count": 46,
   "id": "d7ef90b5-f49c-4fbe-8393-2ec5cdeaebbf",
   "metadata": {
    "tags": []
   },
   "outputs": [
    {
     "data": {
      "text/plain": [
       "{'ResponseMetadata': {'RequestId': '7651cbfd-70a0-438f-9ccf-27ceb7eb0e0b',\n",
       "  'HTTPStatusCode': 200,\n",
       "  'HTTPHeaders': {'date': 'Tue, 20 May 2025 13:43:15 GMT',\n",
       "   'content-type': 'application/x-amz-json-1.1',\n",
       "   'content-length': '2',\n",
       "   'connection': 'keep-alive',\n",
       "   'x-amzn-requestid': '7651cbfd-70a0-438f-9ccf-27ceb7eb0e0b',\n",
       "   'cache-control': 'no-cache'},\n",
       "  'RetryAttempts': 0}}"
      ]
     },
     "execution_count": 46,
     "metadata": {},
     "output_type": "execute_result"
    }
   ],
   "source": [
    "glue_client.start_crawler(Name = 'CrawlerAZ1_')"
   ]
  },
  {
   "cell_type": "markdown",
   "id": "cda02099-e440-4730-a269-ac6d699fe016",
   "metadata": {},
   "source": [
    "#### Check crawler status"
   ]
  },
  {
   "cell_type": "code",
   "execution_count": 47,
   "id": "54838b3e-c38d-45be-a06e-7e20079d9a5c",
   "metadata": {},
   "outputs": [
    {
     "data": {
      "text/plain": [
       "'READY'"
      ]
     },
     "execution_count": 47,
     "metadata": {},
     "output_type": "execute_result"
    }
   ],
   "source": [
    "exit_v = 0\n",
    "while not(exit_v):\n",
    "    response = glue_client.get_crawler(Name = 'CrawlerAZ1_')\n",
    "    if (response['Crawler']['State'] == 'STOPPING') or (response['Crawler']['State'] == 'READY'):\n",
    "        exit_v = 1\n",
    "        \n",
    "response['Crawler']['State']"
   ]
  },
  {
   "cell_type": "markdown",
   "id": "59bd7973-7f10-4168-b5dc-20b44848a139",
   "metadata": {},
   "source": [
    "Wait until it says **STOPPING** or **READY**."
   ]
  },
  {
   "cell_type": "markdown",
   "id": "097eb859-fae2-44a2-8d32-f5df084252ea",
   "metadata": {},
   "source": [
    "#### See the generated table\n",
    "\n",
    "The table get the name of the bucket it crawled."
   ]
  },
  {
   "cell_type": "code",
   "execution_count": 48,
   "id": "f8eebfea-eee4-40f4-b1b3-e24eb40afe5e",
   "metadata": {},
   "outputs": [
    {
     "data": {
      "text/plain": [
       "{'Name': 'glue_test_az1_atomisu',\n",
       " 'DatabaseName': 'mydbaz1',\n",
       " 'Owner': 'owner',\n",
       " 'CreateTime': datetime.datetime(2025, 5, 15, 18, 57, 46, tzinfo=tzlocal()),\n",
       " 'UpdateTime': datetime.datetime(2025, 5, 20, 22, 28, 51, tzinfo=tzlocal()),\n",
       " 'LastAccessTime': datetime.datetime(2025, 5, 20, 22, 28, 51, tzinfo=tzlocal()),\n",
       " 'Retention': 0,\n",
       " 'StorageDescriptor': {'Columns': [{'Name': 'date', 'Type': 'string'},\n",
       "   {'Name': 'open', 'Type': 'double'},\n",
       "   {'Name': 'high', 'Type': 'double'},\n",
       "   {'Name': 'low', 'Type': 'double'},\n",
       "   {'Name': 'close', 'Type': 'double'},\n",
       "   {'Name': 'adj close', 'Type': 'double'},\n",
       "   {'Name': 'volume', 'Type': 'bigint'}],\n",
       "  'Location': 's3://glue-test-az1-atomisu/',\n",
       "  'InputFormat': 'org.apache.hadoop.mapred.TextInputFormat',\n",
       "  'OutputFormat': 'org.apache.hadoop.hive.ql.io.HiveIgnoreKeyTextOutputFormat',\n",
       "  'Compressed': False,\n",
       "  'NumberOfBuckets': -1,\n",
       "  'SerdeInfo': {'SerializationLibrary': 'org.apache.hadoop.hive.serde2.lazy.LazySimpleSerDe',\n",
       "   'Parameters': {'field.delim': ','}},\n",
       "  'BucketColumns': [],\n",
       "  'SortColumns': [],\n",
       "  'Parameters': {'skip.header.line.count': '1',\n",
       "   'sizeKey': '193624',\n",
       "   'objectCount': '1',\n",
       "   'UPDATED_BY_CRAWLER': 'CrawlerAZ1',\n",
       "   'DEPRECATED_BY_CRAWLER': '1747747731327',\n",
       "   'recordCount': '3457',\n",
       "   'CrawlerSchemaSerializerVersion': '1.0',\n",
       "   'averageRecordSize': '56',\n",
       "   'partition_filtering.enabled': 'true',\n",
       "   'compressionType': 'none',\n",
       "   'CrawlerSchemaDeserializerVersion': '1.0',\n",
       "   'classification': 'csv',\n",
       "   'columnsOrdered': 'true',\n",
       "   'delimiter': ',',\n",
       "   'areColumnsQuoted': 'false',\n",
       "   'CRAWL_RUN_ID': 'f2c5e79f-b94b-479d-ae37-6b478d583edf',\n",
       "   'typeOfData': 'file'},\n",
       "  'StoredAsSubDirectories': False},\n",
       " 'PartitionKeys': [{'Name': 'partition_0', 'Type': 'string'}],\n",
       " 'TableType': 'EXTERNAL_TABLE',\n",
       " 'Parameters': {'skip.header.line.count': '1',\n",
       "  'sizeKey': '193624',\n",
       "  'objectCount': '1',\n",
       "  'UPDATED_BY_CRAWLER': 'CrawlerAZ1',\n",
       "  'DEPRECATED_BY_CRAWLER': '1747747731327',\n",
       "  'recordCount': '3457',\n",
       "  'CrawlerSchemaSerializerVersion': '1.0',\n",
       "  'averageRecordSize': '56',\n",
       "  'partition_filtering.enabled': 'true',\n",
       "  'compressionType': 'none',\n",
       "  'CrawlerSchemaDeserializerVersion': '1.0',\n",
       "  'classification': 'csv',\n",
       "  'columnsOrdered': 'true',\n",
       "  'delimiter': ',',\n",
       "  'areColumnsQuoted': 'false',\n",
       "  'CRAWL_RUN_ID': 'f2c5e79f-b94b-479d-ae37-6b478d583edf',\n",
       "  'typeOfData': 'file'},\n",
       " 'CreatedBy': 'arn:aws:sts::240781352644:assumed-role/AWSGlueServiceRole-AZ1/AWS-Crawler',\n",
       " 'IsRegisteredWithLakeFormation': False,\n",
       " 'CatalogId': '240781352644',\n",
       " 'VersionId': '2',\n",
       " 'IsMultiDialectView': False}"
      ]
     },
     "execution_count": 48,
     "metadata": {},
     "output_type": "execute_result"
    }
   ],
   "source": [
    "response = glue_client.get_tables(DatabaseName=dbName)\n",
    "\n",
    "table_name = response['TableList'][0]['Name']  # 最初のテーブル名を取得\n",
    "response['TableList'][0]"
   ]
  },
  {
   "cell_type": "markdown",
   "id": "82322063-24ed-4d08-842a-a60e86ab87b0",
   "metadata": {},
   "source": [
    "As can be seen above the new table contains the columns corresponding to excel file columns.\n",
    "\n",
    "#### Querying the database with AWS Athena"
   ]
  },
  {
   "cell_type": "code",
   "execution_count": 49,
   "id": "fa24e788-7e45-4868-81c6-06b48bf022bc",
   "metadata": {},
   "outputs": [],
   "source": [
    "athena_client = session.client('athena', region_name='ap-northeast-1')"
   ]
  },
  {
   "cell_type": "code",
   "execution_count": 54,
   "id": "d70a48a6",
   "metadata": {},
   "outputs": [
    {
     "data": {
      "text/plain": [
       "'SELECT count(*) FROM mydbaz1.glue_test_az1_atomisu'"
      ]
     },
     "execution_count": 54,
     "metadata": {},
     "output_type": "execute_result"
    }
   ],
   "source": [
    "QueryString = f'SELECT count(*) FROM {dbName}.{table_name}'\n",
    "QueryString"
   ]
  },
  {
   "cell_type": "code",
   "execution_count": 57,
   "id": "7ba25f59-5ffb-48d5-af9b-3ff1f54b96c7",
   "metadata": {
    "tags": []
   },
   "outputs": [
    {
     "data": {
      "text/plain": [
       "{'QueryExecutionId': 'cd5973d4-5fa4-49b0-a974-f6bbe5c0c269',\n",
       " 'ResponseMetadata': {'RequestId': '17d577cb-af5d-499f-9c99-98d77442eb1e',\n",
       "  'HTTPStatusCode': 200,\n",
       "  'HTTPHeaders': {'date': 'Tue, 20 May 2025 13:46:48 GMT',\n",
       "   'content-type': 'application/x-amz-json-1.1',\n",
       "   'content-length': '59',\n",
       "   'connection': 'keep-alive',\n",
       "   'x-amzn-requestid': '17d577cb-af5d-499f-9c99-98d77442eb1e'},\n",
       "  'RetryAttempts': 0}}"
      ]
     },
     "execution_count": 57,
     "metadata": {},
     "output_type": "execute_result"
    }
   ],
   "source": [
    "queryStart = athena_client.start_query_execution(\n",
    "    QueryString = f'SELECT count(*) FROM {dbName}.{table_name}',  # バッククォートで囲む\n",
    "    QueryExecutionContext = {\n",
    "        'Database': f'{dbName}'\n",
    "    }, \n",
    "    ResultConfiguration = { 'OutputLocation': f's3://{bucket}/athena_results'}\n",
    ")\n",
    "\n",
    "queryStart"
   ]
  },
  {
   "cell_type": "code",
   "execution_count": 58,
   "id": "73ad13aa-7f14-4ba9-ac72-879c94630a40",
   "metadata": {
    "tags": []
   },
   "outputs": [
    {
     "data": {
      "text/plain": [
       "{'QueryExecution': {'QueryExecutionId': 'cd5973d4-5fa4-49b0-a974-f6bbe5c0c269',\n",
       "  'Query': 'SELECT count(*) FROM mydbaz1.glue_test_az1_atomisu',\n",
       "  'StatementType': 'DML',\n",
       "  'ResultConfiguration': {'OutputLocation': 's3://glue-test-az1-atomisu/athena_results/cd5973d4-5fa4-49b0-a974-f6bbe5c0c269.csv'},\n",
       "  'ResultReuseConfiguration': {'ResultReuseByAgeConfiguration': {'Enabled': False}},\n",
       "  'QueryExecutionContext': {'Database': 'mydbaz1'},\n",
       "  'Status': {'State': 'SUCCEEDED',\n",
       "   'SubmissionDateTime': datetime.datetime(2025, 5, 20, 22, 46, 48, 803000, tzinfo=tzlocal()),\n",
       "   'CompletionDateTime': datetime.datetime(2025, 5, 20, 22, 46, 49, 754000, tzinfo=tzlocal())},\n",
       "  'Statistics': {'EngineExecutionTimeInMillis': 774,\n",
       "   'DataScannedInBytes': 193624,\n",
       "   'TotalExecutionTimeInMillis': 951,\n",
       "   'QueryQueueTimeInMillis': 101,\n",
       "   'ServicePreProcessingTimeInMillis': 55,\n",
       "   'QueryPlanningTimeInMillis': 394,\n",
       "   'ServiceProcessingTimeInMillis': 21,\n",
       "   'ResultReuseInformation': {'ReusedPreviousResult': False}},\n",
       "  'WorkGroup': 'primary',\n",
       "  'EngineVersion': {'SelectedEngineVersion': 'AUTO',\n",
       "   'EffectiveEngineVersion': 'Athena engine version 3'},\n",
       "  'SubstatementType': 'SELECT'},\n",
       " 'ResponseMetadata': {'RequestId': '77012cab-004b-42ca-9ed4-b8471a384724',\n",
       "  'HTTPStatusCode': 200,\n",
       "  'HTTPHeaders': {'date': 'Tue, 20 May 2025 13:46:52 GMT',\n",
       "   'content-type': 'application/x-amz-json-1.1',\n",
       "   'content-length': '1713',\n",
       "   'connection': 'keep-alive',\n",
       "   'x-amzn-requestid': '77012cab-004b-42ca-9ed4-b8471a384724'},\n",
       "  'RetryAttempts': 0}}"
      ]
     },
     "execution_count": 58,
     "metadata": {},
     "output_type": "execute_result"
    }
   ],
   "source": [
    "queryExecution = athena_client.get_query_execution(QueryExecutionId=queryStart['QueryExecutionId'])\n",
    "\n",
    "queryExecution"
   ]
  },
  {
   "cell_type": "code",
   "execution_count": 53,
   "id": "37091403-0523-4bfc-916d-a4cae13dcc44",
   "metadata": {
    "tags": []
   },
   "outputs": [
    {
     "name": "stdout",
     "output_type": "stream",
     "text": [
      "{\n",
      "    \"ResponseMetadata\": {\n",
      "        \"HTTPHeaders\": {\n",
      "            \"connection\": \"keep-alive\",\n",
      "            \"content-length\": \"350\",\n",
      "            \"content-type\": \"application/x-amz-json-1.1\",\n",
      "            \"date\": \"Tue, 20 May 2025 13:45:11 GMT\",\n",
      "            \"x-amzn-requestid\": \"0762791f-6003-4b53-9fb9-0ec58a8a2971\"\n",
      "        },\n",
      "        \"HTTPStatusCode\": 200,\n",
      "        \"RequestId\": \"0762791f-6003-4b53-9fb9-0ec58a8a2971\",\n",
      "        \"RetryAttempts\": 0\n",
      "    },\n",
      "    \"ResultSet\": {\n",
      "        \"ResultSetMetadata\": {\n",
      "            \"ColumnInfo\": [\n",
      "                {\n",
      "                    \"CaseSensitive\": false,\n",
      "                    \"CatalogName\": \"hive\",\n",
      "                    \"Label\": \"_col0\",\n",
      "                    \"Name\": \"_col0\",\n",
      "                    \"Nullable\": \"UNKNOWN\",\n",
      "                    \"Precision\": 19,\n",
      "                    \"Scale\": 0,\n",
      "                    \"SchemaName\": \"\",\n",
      "                    \"TableName\": \"\",\n",
      "                    \"Type\": \"bigint\"\n",
      "                }\n",
      "            ]\n",
      "        },\n",
      "        \"Rows\": [\n",
      "            {\n",
      "                \"Data\": [\n",
      "                    {\n",
      "                        \"VarCharValue\": \"_col0\"\n",
      "                    }\n",
      "                ]\n",
      "            },\n",
      "            {\n",
      "                \"Data\": [\n",
      "                    {\n",
      "                        \"VarCharValue\": \"2769\"\n",
      "                    }\n",
      "                ]\n",
      "            }\n",
      "        ]\n",
      "    },\n",
      "    \"UpdateCount\": 0\n",
      "}\n"
     ]
    }
   ],
   "source": [
    "results = athena_client.get_query_results(QueryExecutionId=queryStart['QueryExecutionId'])\n",
    "print(json.dumps(results, indent=4, sort_keys=True))"
   ]
  },
  {
   "cell_type": "markdown",
   "id": "74e38821-4cca-4ee9-b6e4-ce406b665377",
   "metadata": {},
   "source": [
    "#### The PySpark ETL job\n",
    "\n",
    "The file contains a Pyspark code that load the csv file in a dataframe, create a new column with a moving averange of the specified dataframe column. Finally save the new dataframe in a new csv file."
   ]
  },
  {
   "cell_type": "code",
   "execution_count": 59,
   "id": "f2c04185-7891-4a84-9b73-ba6d4be421d4",
   "metadata": {
    "tags": []
   },
   "outputs": [
    {
     "name": "stdout",
     "output_type": "stream",
     "text": [
      "Overwriting sparkETL.py\n"
     ]
    }
   ],
   "source": [
    "%%writefile sparkETL.py\n",
    "from pyspark.sql.window import Window\n",
    "from pyspark.sql import functions as f\n",
    "from pyspark.sql import SparkSession\n",
    "\n",
    "spark = SparkSession.builder.appName('ETLjob1').getOrCreate()\n",
    "\n",
    "bucket = 'glue-test-az1-atomisu'\n",
    "\n",
    "df = spark.read.option(\"header\", \"true\").csv(f\"s3://{bucket}/raw_files/TSLA.csv\")\n",
    "\n",
    "df_new = df.withColumn(\"Part\", f.lit(1)).withColumn(\"movingAverage\", f.avg(df[\"Adj Close\"]).over(Window.partitionBy(\"Part\").orderBy(\"Date\").rowsBetween(-5,0)))\n",
    "\n",
    "df_new.coalesce(1).write.option(\"header\", \"true\").csv(f\"s3://{bucket}/processed/TSLA.csv\", mode='overwrite')"
   ]
  },
  {
   "cell_type": "markdown",
   "id": "41b9df43-c840-4517-975e-2c4b58ab2d9b",
   "metadata": {},
   "source": [
    "#### Load the file into the bucket"
   ]
  },
  {
   "cell_type": "code",
   "execution_count": 60,
   "id": "22b6d66b-5eee-42d4-8619-b0311976fbca",
   "metadata": {
    "tags": []
   },
   "outputs": [],
   "source": [
    "fileToUpload = 'sparkETL.py'\n",
    "dev_s3_client.upload_file(f'{fileToUpload}', \n",
    "                          bucket,\n",
    "                          f'scripts/{fileToUpload}')"
   ]
  },
  {
   "cell_type": "markdown",
   "id": "c7f937a5-9358-436f-b50f-4a9fa6de5bcf",
   "metadata": {},
   "source": [
    "Verify the file was uploaded."
   ]
  },
  {
   "cell_type": "code",
   "execution_count": 61,
   "id": "4cbd6503-366a-4191-8b7b-7d01261e6c5c",
   "metadata": {
    "tags": []
   },
   "outputs": [],
   "source": [
    "response = dev_s3_client.list_objects(Bucket=f'{bucket}')"
   ]
  },
  {
   "cell_type": "code",
   "execution_count": 62,
   "id": "237fc07a-bccc-4937-a968-178b4766099c",
   "metadata": {},
   "outputs": [
    {
     "name": "stdout",
     "output_type": "stream",
     "text": [
      "athena_results/cd5973d4-5fa4-49b0-a974-f6bbe5c0c269.csv\n",
      "athena_results/cd5973d4-5fa4-49b0-a974-f6bbe5c0c269.csv.metadata\n",
      "processed/TSLA.csv/part-00000-db5c53eb-dab9-4547-876e-d39c683e472d-c000.csv\n",
      "raw_files/TSLA.csv\n",
      "scripts/sparkETL.py\n"
     ]
    }
   ],
   "source": [
    "for key in response[\"Contents\"]:\n",
    "    print(key['Key'])"
   ]
  },
  {
   "cell_type": "markdown",
   "id": "eaef6cda-77bb-44da-ae67-43cb87ce75d0",
   "metadata": {},
   "source": [
    "#### Get user arn account  "
   ]
  },
  {
   "cell_type": "code",
   "execution_count": 65,
   "id": "601ee933-e6c3-4347-a919-43899dd1a46e",
   "metadata": {},
   "outputs": [],
   "source": [
    "iam_response = iam_client.get_user()\n",
    "\n",
    "myAccount = iam_response['User']['Arn']"
   ]
  },
  {
   "cell_type": "code",
   "execution_count": 66,
   "id": "e8ebc0e3-59e8-4556-98a3-803c9420b2d8",
   "metadata": {},
   "outputs": [
    {
     "data": {
      "text/plain": [
       "'arn:aws:iam::240781352644'"
      ]
     },
     "execution_count": 66,
     "metadata": {},
     "output_type": "execute_result"
    }
   ],
   "source": [
    "myAccount.split(':user/')[0]"
   ]
  },
  {
   "cell_type": "markdown",
   "id": "682b4ac6-77ed-4d2e-9171-28f8e53e6c80",
   "metadata": {},
   "source": [
    "#### Creating a Glue ETL job"
   ]
  },
  {
   "cell_type": "code",
   "execution_count": 67,
   "id": "d2b4370b-8a54-4013-ae27-7ae84a3f1de7",
   "metadata": {},
   "outputs": [],
   "source": [
    "glue_client = session.client('glue', region_name='ap-northeast-1')"
   ]
  },
  {
   "cell_type": "markdown",
   "id": "777283ed-691c-415d-b2d4-475fc15ca99c",
   "metadata": {},
   "source": [
    "Notice how the ARN account is used in the **Role** parameter "
   ]
  },
  {
   "cell_type": "code",
   "execution_count": 69,
   "id": "17f8d7c0-1e92-4e5c-8579-46ada685fe6a",
   "metadata": {},
   "outputs": [
    {
     "name": "stdout",
     "output_type": "stream",
     "text": [
      "{\n",
      "    \"Name\": \"AZJob\",\n",
      "    \"ResponseMetadata\": {\n",
      "        \"HTTPHeaders\": {\n",
      "            \"cache-control\": \"no-cache\",\n",
      "            \"connection\": \"keep-alive\",\n",
      "            \"content-length\": \"16\",\n",
      "            \"content-type\": \"application/x-amz-json-1.1\",\n",
      "            \"date\": \"Tue, 20 May 2025 13:49:37 GMT\",\n",
      "            \"x-amzn-requestid\": \"cd583c33-30e9-483b-a7aa-cc75259270ae\"\n",
      "        },\n",
      "        \"HTTPStatusCode\": 200,\n",
      "        \"RequestId\": \"cd583c33-30e9-483b-a7aa-cc75259270ae\",\n",
      "        \"RetryAttempts\": 0\n",
      "    }\n",
      "}\n"
     ]
    }
   ],
   "source": [
    "import boto3\n",
    "import json\n",
    "\n",
    "\n",
    "response = glue_client.create_job(\n",
    "    Name='AZJob',\n",
    "    Description='Test',\n",
    "    Role=f'{myAccount.split(\":user/\")[0]}:role/AWSGlueServiceRole-AZ1',\n",
    "    ExecutionProperty={\n",
    "        'MaxConcurrentRuns': 2\n",
    "    },\n",
    "    Command={\n",
    "        'Name': 'glueetl',\n",
    "        'ScriptLocation': f's3://{bucket}/scripts/sparkETL.py',\n",
    "        'PythonVersion': '3'\n",
    "    },\n",
    "    GlueVersion='3.0',\n",
    ")\n",
    "\n",
    "print(json.dumps(response, indent=4, sort_keys=True, default=str))"
   ]
  },
  {
   "cell_type": "markdown",
   "id": "0384e806-a57a-4945-a7b0-97ee43fb77f3",
   "metadata": {},
   "source": [
    "As a side note, for the role parameter the complete ARN role name must be used... otherwise the parameter is not accepted, with no error message and the ETL job won't run. \n",
    "\n",
    "I spent few hours, to find it out 🤦‍♂️\n",
    "\n",
    "To find the ARN Role, find it in the response when the role was created. Or use the next query:"
   ]
  },
  {
   "cell_type": "code",
   "execution_count": 70,
   "id": "e72dbfce-2916-4345-8647-43623c90c515",
   "metadata": {},
   "outputs": [
    {
     "data": {
      "text/plain": [
       "'arn:aws:iam::240781352644:role/AWSGlueServiceRole-AZ1'"
      ]
     },
     "execution_count": 70,
     "metadata": {},
     "output_type": "execute_result"
    }
   ],
   "source": [
    "response = iam_client.get_role(RoleName = 'AWSGlueServiceRole-AZ1')\n",
    "\n",
    "response['Role']['Arn']"
   ]
  },
  {
   "cell_type": "markdown",
   "id": "20e8bfc3-ff2f-444f-9778-f85cda0064be",
   "metadata": {},
   "source": [
    "#### Delete a Job"
   ]
  },
  {
   "cell_type": "markdown",
   "id": "24b8a1d4-96dc-43ff-bf90-96a22235c596",
   "metadata": {},
   "source": [
    "If something didn't work you can always delete the job with:"
   ]
  },
  {
   "cell_type": "markdown",
   "id": "0928a8e1-ed8d-4869-bdd8-546f77bb7dc4",
   "metadata": {},
   "source": [
    "<code>glue_client.delete_job(JobName='AZJob')</code>"
   ]
  },
  {
   "cell_type": "code",
   "execution_count": 68,
   "id": "ef24be83",
   "metadata": {},
   "outputs": [
    {
     "data": {
      "text/plain": [
       "{'JobName': 'AZJob',\n",
       " 'ResponseMetadata': {'RequestId': '736f524d-838f-4e19-a110-9c8d66c1f8c6',\n",
       "  'HTTPStatusCode': 200,\n",
       "  'HTTPHeaders': {'date': 'Tue, 20 May 2025 13:49:30 GMT',\n",
       "   'content-type': 'application/x-amz-json-1.1',\n",
       "   'content-length': '19',\n",
       "   'connection': 'keep-alive',\n",
       "   'x-amzn-requestid': '736f524d-838f-4e19-a110-9c8d66c1f8c6',\n",
       "   'cache-control': 'no-cache'},\n",
       "  'RetryAttempts': 0}}"
      ]
     },
     "execution_count": 68,
     "metadata": {},
     "output_type": "execute_result"
    }
   ],
   "source": [
    "glue_client.delete_job(JobName='AZJob')"
   ]
  },
  {
   "cell_type": "markdown",
   "id": "dc29d40e-aa51-4b04-b0e4-ebe66104163d",
   "metadata": {},
   "source": [
    "#### Update an ETL job\n",
    "\n",
    "For example to update the description"
   ]
  },
  {
   "cell_type": "code",
   "execution_count": 73,
   "id": "073ab80b-c7a3-4d4a-8736-719c55d4c513",
   "metadata": {},
   "outputs": [
    {
     "name": "stdout",
     "output_type": "stream",
     "text": [
      "{'JobName': 'AZJob', 'ResponseMetadata': {'RequestId': '52e3525a-30b9-4fb0-bd72-341b09e67e4b', 'HTTPStatusCode': 200, 'HTTPHeaders': {'date': 'Thu, 15 May 2025 10:20:46 GMT', 'content-type': 'application/x-amz-json-1.1', 'content-length': '19', 'connection': 'keep-alive', 'x-amzn-requestid': '52e3525a-30b9-4fb0-bd72-341b09e67e4b', 'cache-control': 'no-cache'}, 'RetryAttempts': 0}}\n"
     ]
    }
   ],
   "source": [
    "response = glue_client.update_job(\n",
    "    JobName='AZJob',\n",
    "    JobUpdate={\n",
    "        'Role': f'{myAccount.split(\":user/\")[0]}:role/AWSGlueServiceRole-AZ1',\n",
    "        'Description': 'Testing AWS Glue ETL',\n",
    "        'Command': {\n",
    "            'Name': 'sparkETL',\n",
    "            'ScriptLocation': f's3://{bucket}/scripts/sparkETL.py',\n",
    "            'PythonVersion': '3'\n",
    "        },\n",
    "    }\n",
    ")\n",
    "print(response)"
   ]
  },
  {
   "cell_type": "markdown",
   "id": "2e1af88b-ae40-4fde-979c-dce462f22b49",
   "metadata": {},
   "source": [
    "#### Start a Job"
   ]
  },
  {
   "cell_type": "code",
   "execution_count": 71,
   "id": "604752ed-2385-4702-89c3-3666bef01ea1",
   "metadata": {},
   "outputs": [],
   "source": [
    "start_job_response = glue_client.start_job_run(JobName='AZJob')"
   ]
  },
  {
   "cell_type": "code",
   "execution_count": 72,
   "id": "a888d4df-54c5-4833-be5e-900e1cace5ca",
   "metadata": {},
   "outputs": [
    {
     "data": {
      "text/plain": [
       "{'JobRunId': 'jr_7ecde573ca4a691a44ec147361fdc2429736a3ec9933f94af995674fb6ee616d',\n",
       " 'ResponseMetadata': {'RequestId': 'aec8c08e-1384-4356-bd6b-3ce6255ea49c',\n",
       "  'HTTPStatusCode': 200,\n",
       "  'HTTPHeaders': {'date': 'Tue, 20 May 2025 13:49:50 GMT',\n",
       "   'content-type': 'application/x-amz-json-1.1',\n",
       "   'content-length': '82',\n",
       "   'connection': 'keep-alive',\n",
       "   'x-amzn-requestid': 'aec8c08e-1384-4356-bd6b-3ce6255ea49c',\n",
       "   'cache-control': 'no-cache'},\n",
       "  'RetryAttempts': 0}}"
      ]
     },
     "execution_count": 72,
     "metadata": {},
     "output_type": "execute_result"
    }
   ],
   "source": [
    "start_job_response"
   ]
  },
  {
   "cell_type": "markdown",
   "id": "0868a674-8e68-4c46-a6dd-9c00ae553536",
   "metadata": {},
   "source": [
    "#### To see the status of the Job"
   ]
  },
  {
   "cell_type": "code",
   "execution_count": 77,
   "id": "69f0c1c9-bb8a-49ce-ba63-b168e5be6802",
   "metadata": {},
   "outputs": [
    {
     "data": {
      "text/plain": [
       "'RUNNING'"
      ]
     },
     "execution_count": 77,
     "metadata": {},
     "output_type": "execute_result"
    }
   ],
   "source": [
    "response = glue_client.get_job_run(\n",
    "    JobName='AZJob',\n",
    "    RunId=start_job_response['JobRunId']\n",
    ")\n",
    "\n",
    "response['JobRun']['JobRunState']"
   ]
  },
  {
   "cell_type": "markdown",
   "id": "8c088665-3491-4c5a-bfd8-6b94c7b0d2a1",
   "metadata": {},
   "source": [
    "Wait until it says **SUCCEEDED**... or, worst case, **FAILED**. In the last case good luck with debugging."
   ]
  },
  {
   "cell_type": "markdown",
   "id": "fda849dd-1d6a-4705-a735-d7649f379047",
   "metadata": {},
   "source": [
    "#### List the files in S3"
   ]
  },
  {
   "cell_type": "code",
   "execution_count": null,
   "id": "b3ff112b-43d2-498e-9069-1325d184fb74",
   "metadata": {},
   "outputs": [],
   "source": [
    "#### code here"
   ]
  },
  {
   "cell_type": "markdown",
   "id": "79e28ed7-ce90-4109-935d-f7835cb7a716",
   "metadata": {},
   "source": [
    "Let's have a look at the csv file\n",
    "\n",
    "%%%% SCREENSHOT HERE %%%%%"
   ]
  },
  {
   "cell_type": "markdown",
   "id": "78c1be1d-555a-48be-ba40-9e63682c5539",
   "metadata": {},
   "source": [
    "#### Glue ETL job\n",
    "\n",
    "In my previous ETL Job I used plain Apache Spark, let's try to use some Glue features, like the GlueContext"
   ]
  },
  {
   "cell_type": "code",
   "execution_count": null,
   "id": "61e07efe-1669-4131-a53d-8eb39b6da192",
   "metadata": {},
   "outputs": [],
   "source": [
    "%%writefile GlueETL.py\n",
    "import sys\n",
    "from awsglue.transforms import *\n",
    "from awsglue.utils import getResolvedOptions\n",
    "from pyspark.context import SparkContext\n",
    "from awsglue.context import GlueContext\n",
    "from awsglue.job import Job\n",
    "\n",
    "args = getResolvedOptions(sys.argv, [\"JOB_NAME\"])\n",
    "sc = SparkContext()\n",
    "glueContext = GlueContext(sc)\n",
    "spark = glueContext.spark_session\n",
    "job = Job(glueContext)\n",
    "job.init(args[\"JOB_NAME\"], args)\n",
    "\n",
    "# Script generated for node S3 bucket\n",
    "S3bucket_node1 = glueContext.create_dynamic_frame.from_catalog(\n",
    "    database=\"mydbaz1\", table_name=\"glue_test_az1\", transformation_ctx=\"S3bucket_node1\"\n",
    ")\n",
    "\n",
    "# Script generated for node ApplyMapping\n",
    "ApplyMapping_node2 = ApplyMapping.apply(\n",
    "    frame=S3bucket_node1,\n",
    "    mappings=[\n",
    "        (\"date\", \"string\", \"date\", \"string\"),\n",
    "        (\"open\", \"double\", \"open\", \"double\"),\n",
    "        (\"high\", \"double\", \"high\", \"double\"),\n",
    "        (\"low\", \"double\", \"low\", \"double\"),\n",
    "        (\"close\", \"double\", \"close\", \"double\"),\n",
    "        (\"adj close\", \"double\", \"adj close\", \"double\"),\n",
    "        (\"volume\", \"long\", \"volume\", \"long\"),\n",
    "        (\"partition_0\", \"string\", \"partition_0\", \"string\"),\n",
    "    ],\n",
    "    transformation_ctx=\"ApplyMapping_node2\",\n",
    ")\n",
    "\n",
    "# Script generated for node S3 bucket\n",
    "S3bucket_node3 = glueContext.write_dynamic_frame.from_options(\n",
    "    frame=ApplyMapping_node2,\n",
    "    connection_type=\"s3\",\n",
    "    format=\"glueparquet\",\n",
    "    connection_options={\"path\": \"s3://glue-test-az1/parquet/\", \"partitionKeys\": []},\n",
    "    transformation_ctx=\"S3bucket_node3\",\n",
    ")\n",
    "\n",
    "job.commit()"
   ]
  },
  {
   "attachments": {
    "aaa8b389-4ae0-4c62-aea5-ce0d1ac06f47.png": {
     "image/png": "[encoded data removed]"
    }
   },
   "cell_type": "markdown",
   "id": "4e63d093-df1f-4607-8b28-b7fa97525e74",
   "metadata": {},
   "source": [
    "Pro Tip, to spare you some time: To re-run the Glue job on the same data the jobmark must be disabled, otherwise Glue considers the pocessing of existing source files as already performed and will not re-run the job on the old data.\n",
    "\n",
    "To force re-running the job on the old data, job boomark must be disabled. This can be done directly in the AWS management console. Alternatively can be done in the AWS CLI .\n",
    "\n",
    "![image.png](attachment:aaa8b389-4ae0-4c62-aea5-ce0d1ac06f47.png)\n",
    "\n",
    "### References\n",
    "\n",
    "\n",
    "Boto3 IAM API: https://boto3.amazonaws.com/v1/documentation/api/latest/reference/services/iam.html\n",
    "\n",
    "JSON policy element reference: https://docs.aws.amazon.com/IAM/latest/UserGuide/reference_policies_elements.html#Principal_specifying\n",
    "\n",
    "AWS services that work with IAM: https://docs.aws.amazon.com/IAM/latest/UserGuide/reference_aws-services-that-work-with-iam.html \n",
    "\n",
    "Create a role: https://bobbyhadz.com/blog/aws-cli-create-role\n",
    "\n",
    "AWS Glue - Web API reference: https://docs.aws.amazon.com/glue/latest/webapi/web-api.pdf#WebAPI_Welcome\n",
    "\n",
    "AWS Glue hands-on: https://hands-on.cloud/working-with-aws-glue-in-python-using-boto3/#h-creating-an-aws-glue-crawler"
   ]
  }
 ],
 "metadata": {
  "kernelspec": {
   "display_name": ".venv",
   "language": "python",
   "name": "python3"
  },
  "language_info": {
   "codemirror_mode": {
    "name": "ipython",
    "version": 3
   },
   "file_extension": ".py",
   "mimetype": "text/x-python",
   "name": "python",
   "nbconvert_exporter": "python",
   "pygments_lexer": "ipython3",
   "version": "3.10.15"
  }
 },
 "nbformat": 4,
 "nbformat_minor": 5
}
