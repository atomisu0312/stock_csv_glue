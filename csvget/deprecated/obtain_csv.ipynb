{
 "cells": [
  {
   "cell_type": "markdown",
   "metadata": {},
   "source": [
    "# なんか単純なリクエストでデータが取れなくなったのでこれは廃止扱いでOK"
   ]
  },
  {
   "cell_type": "markdown",
   "metadata": {},
   "source": [
    "# 簡単なサンプル"
   ]
  },
  {
   "cell_type": "code",
   "execution_count": 1,
   "metadata": {},
   "outputs": [],
   "source": [
    "import requests\n",
    "from bs4 import BeautifulSoup\n",
    "import csv\n",
    "from datetime import datetime\n",
    "import re\n",
    "import os\n",
    "\n",
    "USER_AGENT = \"Mozilla/5.0 (Windows NT 10.0; Win64; x64)\" \\\n",
    "        \"AppleWebKit/537.36 (KHTML, like Gecko) Chrome/125.0.0.0 Safari/537.36\" \\\n",
    "        \"Edg/125.0.0.0\"\n",
    "DATA_DIR = \"../data\"\n",
    "\n",
    "def validate_date_format(date_str: str) -> bool:\n",
    "  \"\"\"\n",
    "  日付文字列がYYYY-MM-DD形式かどうかを検証する\n",
    "  \n",
    "  Args:\n",
    "      date_str (str): 検証する日付文字列\n",
    "      \n",
    "  Returns:\n",
    "      bool: 有効な形式の場合はTrue、そうでない場合はFalse\n",
    "  \"\"\"\n",
    "  pattern = r'^\\d{4}-\\d{2}-\\d{2}$'\n",
    "  if not re.match(pattern, date_str):\n",
    "    return False\n",
    "  \n",
    "  try:\n",
    "    datetime.strptime(date_str, '%Y-%m-%d')\n",
    "    return True\n",
    "  except ValueError:\n",
    "    return False\n",
    "\n",
    "def get_stock_csv(code: str, from_date: str, to_date: str):\n",
    "  \"\"\"\n",
    "  株価データを取得し、CSVファイルに保存する\n",
    "\n",
    "  Args:\n",
    "      code (str): 株価データを取得する銘柄コード\n",
    "      from_date (str): 株価データを取得する開始日\n",
    "      to_date (str): 株価データを取得する終了日\n",
    "\n",
    "  Raises:\n",
    "      ValueError: 日付の形式が不正です。YYYY-MM-DD形式で入力してください。\n",
    "  \"\"\"\n",
    "  if not validate_date_format(from_date) or not validate_date_format(to_date):\n",
    "    raise ValueError(\"日付の形式が不正です。YYYY-MM-DD形式で入力してください。\")\n",
    "  \n",
    "  if not os.path.exists(DATA_DIR):\n",
    "    os.makedirs(DATA_DIR)\n",
    "  \n",
    "  from_date_epoch = int(datetime.strptime(\"{}T09:00:00\".format(from_date), \"%Y-%m-%dT%H:%M:%S\").timestamp())\n",
    "  to_date_epoch = int(datetime.strptime(\"{}T00:00:00\".format(to_date), \"%Y-%m-%dT%H:%M:%S\").timestamp())\n",
    "  \n",
    "  url = \"https://finance.yahoo.com/quote/{}/history/?period1={}&period2={}\".format(code, from_date_epoch, to_date_epoch)\n",
    "\n",
    "  file_name = \"{}/stock_data_{}_{}_{}.csv\".format(DATA_DIR, code, from_date, to_date)\n",
    "  \n",
    "  res = requests.get(url, headers={'User-Agent': USER_AGENT})\n",
    "  rows = BeautifulSoup(res.text, 'lxml').find_all(\"table\", {\"class\":\"hideOnPrint\"})[0].find_all(\"tr\")\n",
    "  \n",
    "  with open(file_name, \"w\", encoding='utf-8') as file:\n",
    "    writer = csv.writer(file)\n",
    "    writer.writerow([\"Date\", \"Open\", \"High\", \"Low\", \"Close\", \"Adj Close\", \"Volume\"])  \n",
    "    writer.writerows((\n",
    "        row for row in map(\n",
    "            lambda row: [cell.get_text() for cell in row.find_all(['td'])], rows)\n",
    "        if any(row))\n",
    "    )\n"
   ]
  },
  {
   "cell_type": "code",
   "execution_count": 2,
   "metadata": {},
   "outputs": [],
   "source": [
    "fromDate = \"2023-04-01\"\n",
    "toDate = \"2025-04-30\"\n",
    "code = \"4755.T\"\n",
    "\n",
    "get_stock_csv(code, fromDate, toDate)"
   ]
  }
 ],
 "metadata": {
  "kernelspec": {
   "display_name": ".venv",
   "language": "python",
   "name": "python3"
  },
  "language_info": {
   "codemirror_mode": {
    "name": "ipython",
    "version": 3
   },
   "file_extension": ".py",
   "mimetype": "text/x-python",
   "name": "python",
   "nbconvert_exporter": "python",
   "pygments_lexer": "ipython3",
   "version": "3.10.13"
  }
 },
 "nbformat": 4,
 "nbformat_minor": 2
}
